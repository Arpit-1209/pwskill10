{
 "cells": [
  {
   "cell_type": "markdown",
   "id": "cf0a976e-1228-46c5-83f4-13a4938a4ca8",
   "metadata": {},
   "source": [
    "1. How do you load and run inference on a custom image using the YOLOv8 model (labeled as YOLOv9)?"
   ]
  },
  {
   "cell_type": "code",
   "execution_count": 2,
   "id": "de6da174-d898-4ff4-b0dc-82b0d1b5da21",
   "metadata": {},
   "outputs": [
    {
     "name": "stdout",
     "output_type": "stream",
     "text": [
      "Collecting ultralytics\n",
      "  Downloading ultralytics-8.3.49-py3-none-any.whl (898 kB)\n",
      "Requirement already satisfied: seaborn>=0.11.0 in c:\\users\\arpit srivastava\\appdata\\local\\programs\\python\\python310\\lib\\site-packages (from ultralytics) (0.13.2)\n",
      "Requirement already satisfied: tqdm>=4.64.0 in c:\\users\\arpit srivastava\\appdata\\local\\programs\\python\\python310\\lib\\site-packages (from ultralytics) (4.66.5)\n",
      "Requirement already satisfied: pillow>=7.1.2 in c:\\users\\arpit srivastava\\appdata\\local\\programs\\python\\python310\\lib\\site-packages (from ultralytics) (10.4.0)\n",
      "Collecting ultralytics-thop>=2.0.0\n",
      "  Downloading ultralytics_thop-2.0.13-py3-none-any.whl (26 kB)\n",
      "Collecting opencv-python>=4.6.0\n",
      "  Downloading opencv_python-4.10.0.84-cp37-abi3-win_amd64.whl (38.8 MB)\n",
      "Requirement already satisfied: pyyaml>=5.3.1 in c:\\users\\arpit srivastava\\appdata\\local\\programs\\python\\python310\\lib\\site-packages (from ultralytics) (6.0.1)\n",
      "Requirement already satisfied: torch>=1.8.0 in c:\\users\\arpit srivastava\\appdata\\local\\programs\\python\\python310\\lib\\site-packages (from ultralytics) (2.4.1)\n",
      "Requirement already satisfied: torchvision>=0.9.0 in c:\\users\\arpit srivastava\\appdata\\local\\programs\\python\\python310\\lib\\site-packages (from ultralytics) (0.19.1)\n",
      "Requirement already satisfied: numpy>=1.23.0 in c:\\users\\arpit srivastava\\appdata\\local\\programs\\python\\python310\\lib\\site-packages (from ultralytics) (2.0.2)\n",
      "Requirement already satisfied: matplotlib>=3.3.0 in c:\\users\\arpit srivastava\\appdata\\local\\programs\\python\\python310\\lib\\site-packages (from ultralytics) (3.9.1)\n",
      "Requirement already satisfied: psutil in c:\\users\\arpit srivastava\\appdata\\local\\programs\\python\\python310\\lib\\site-packages (from ultralytics) (6.0.0)\n",
      "Collecting py-cpuinfo\n",
      "  Downloading py_cpuinfo-9.0.0-py3-none-any.whl (22 kB)\n",
      "Requirement already satisfied: pandas>=1.1.4 in c:\\users\\arpit srivastava\\appdata\\local\\programs\\python\\python310\\lib\\site-packages (from ultralytics) (2.2.2)\n",
      "Requirement already satisfied: scipy>=1.4.1 in c:\\users\\arpit srivastava\\appdata\\local\\programs\\python\\python310\\lib\\site-packages (from ultralytics) (1.14.0)\n",
      "Requirement already satisfied: requests>=2.23.0 in c:\\users\\arpit srivastava\\appdata\\local\\programs\\python\\python310\\lib\\site-packages (from ultralytics) (2.32.3)\n",
      "Requirement already satisfied: cycler>=0.10 in c:\\users\\arpit srivastava\\appdata\\local\\programs\\python\\python310\\lib\\site-packages (from matplotlib>=3.3.0->ultralytics) (0.12.1)\n",
      "Requirement already satisfied: fonttools>=4.22.0 in c:\\users\\arpit srivastava\\appdata\\local\\programs\\python\\python310\\lib\\site-packages (from matplotlib>=3.3.0->ultralytics) (4.53.1)\n",
      "Requirement already satisfied: contourpy>=1.0.1 in c:\\users\\arpit srivastava\\appdata\\local\\programs\\python\\python310\\lib\\site-packages (from matplotlib>=3.3.0->ultralytics) (1.2.1)\n",
      "Requirement already satisfied: python-dateutil>=2.7 in c:\\users\\arpit srivastava\\appdata\\local\\programs\\python\\python310\\lib\\site-packages (from matplotlib>=3.3.0->ultralytics) (2.8.2)\n",
      "Requirement already satisfied: packaging>=20.0 in c:\\users\\arpit srivastava\\appdata\\local\\programs\\python\\python310\\lib\\site-packages (from matplotlib>=3.3.0->ultralytics) (24.1)\n",
      "Requirement already satisfied: kiwisolver>=1.3.1 in c:\\users\\arpit srivastava\\appdata\\local\\programs\\python\\python310\\lib\\site-packages (from matplotlib>=3.3.0->ultralytics) (1.4.5)\n",
      "Requirement already satisfied: pyparsing>=2.3.1 in c:\\users\\arpit srivastava\\appdata\\local\\programs\\python\\python310\\lib\\site-packages (from matplotlib>=3.3.0->ultralytics) (3.1.2)\n",
      "Requirement already satisfied: tzdata>=2022.7 in c:\\users\\arpit srivastava\\appdata\\local\\programs\\python\\python310\\lib\\site-packages (from pandas>=1.1.4->ultralytics) (2024.1)\n",
      "Requirement already satisfied: pytz>=2020.1 in c:\\users\\arpit srivastava\\appdata\\local\\programs\\python\\python310\\lib\\site-packages (from pandas>=1.1.4->ultralytics) (2021.3)\n",
      "Requirement already satisfied: six>=1.5 in c:\\users\\arpit srivastava\\appdata\\local\\programs\\python\\python310\\lib\\site-packages (from python-dateutil>=2.7->matplotlib>=3.3.0->ultralytics) (1.16.0)\n",
      "Requirement already satisfied: charset-normalizer<4,>=2 in c:\\users\\arpit srivastava\\appdata\\local\\programs\\python\\python310\\lib\\site-packages (from requests>=2.23.0->ultralytics) (3.3.2)\n",
      "Requirement already satisfied: certifi>=2017.4.17 in c:\\users\\arpit srivastava\\appdata\\local\\programs\\python\\python310\\lib\\site-packages (from requests>=2.23.0->ultralytics) (2024.7.4)\n",
      "Requirement already satisfied: idna<4,>=2.5 in c:\\users\\arpit srivastava\\appdata\\local\\programs\\python\\python310\\lib\\site-packages (from requests>=2.23.0->ultralytics) (3.7)\n",
      "Requirement already satisfied: urllib3<3,>=1.21.1 in c:\\users\\arpit srivastava\\appdata\\local\\programs\\python\\python310\\lib\\site-packages (from requests>=2.23.0->ultralytics) (2.2.2)\n",
      "Requirement already satisfied: fsspec in c:\\users\\arpit srivastava\\appdata\\local\\programs\\python\\python310\\lib\\site-packages (from torch>=1.8.0->ultralytics) (2024.9.0)\n",
      "Requirement already satisfied: typing-extensions>=4.8.0 in c:\\users\\arpit srivastava\\appdata\\local\\programs\\python\\python310\\lib\\site-packages (from torch>=1.8.0->ultralytics) (4.12.2)\n",
      "Requirement already satisfied: jinja2 in c:\\users\\arpit srivastava\\appdata\\local\\programs\\python\\python310\\lib\\site-packages (from torch>=1.8.0->ultralytics) (3.1.4)\n",
      "Requirement already satisfied: sympy in c:\\users\\arpit srivastava\\appdata\\local\\programs\\python\\python310\\lib\\site-packages (from torch>=1.8.0->ultralytics) (1.13.2)\n",
      "Requirement already satisfied: networkx in c:\\users\\arpit srivastava\\appdata\\local\\programs\\python\\python310\\lib\\site-packages (from torch>=1.8.0->ultralytics) (3.3)\n",
      "Requirement already satisfied: filelock in c:\\users\\arpit srivastava\\appdata\\local\\programs\\python\\python310\\lib\\site-packages (from torch>=1.8.0->ultralytics) (3.16.0)\n",
      "Requirement already satisfied: colorama in c:\\users\\arpit srivastava\\appdata\\local\\programs\\python\\python310\\lib\\site-packages (from tqdm>=4.64.0->ultralytics) (0.4.6)\n",
      "Requirement already satisfied: MarkupSafe>=2.0 in c:\\users\\arpit srivastava\\appdata\\local\\programs\\python\\python310\\lib\\site-packages (from jinja2->torch>=1.8.0->ultralytics) (2.1.5)\n",
      "Requirement already satisfied: mpmath<1.4,>=1.1.0 in c:\\users\\arpit srivastava\\appdata\\local\\programs\\python\\python310\\lib\\site-packages (from sympy->torch>=1.8.0->ultralytics) (1.3.0)\n",
      "Installing collected packages: ultralytics-thop, py-cpuinfo, opencv-python, ultralytics\n",
      "Successfully installed opencv-python-4.10.0.84 py-cpuinfo-9.0.0 ultralytics-8.3.49 ultralytics-thop-2.0.13\n"
     ]
    },
    {
     "name": "stderr",
     "output_type": "stream",
     "text": [
      "WARNING: You are using pip version 21.2.3; however, version 24.3.1 is available.\n",
      "You should consider upgrading via the 'C:\\Users\\Arpit Srivastava\\AppData\\Local\\Programs\\Python\\Python310\\python.exe -m pip install --upgrade pip' command.\n"
     ]
    }
   ],
   "source": [
    "!pip install ultralytics"
   ]
  },
  {
   "cell_type": "code",
   "execution_count": 27,
   "id": "a780b2de-ea5f-41ad-813d-61ebcfd1505b",
   "metadata": {},
   "outputs": [
    {
     "name": "stdout",
     "output_type": "stream",
     "text": [
      "\n",
      "image 1/1 C:\\Users\\Arpit Srivastava\\download (1).jpeg: 640x384 1 person, 1 dog, 84.9ms\n",
      "Speed: 6.0ms preprocess, 84.9ms inference, 2.0ms postprocess per image at shape (1, 3, 640, 384)\n"
     ]
    }
   ],
   "source": [
    "from ultralytics import YOLO\n",
    "\n",
    "# Load the YOLOv9 model (YOLOv8 in this case)\n",
    "model = YOLO('yolov8n.pt')  # Replace with the actual model path if needed\n",
    "\n",
    "# Run inference on a custom image\n",
    "results = model('download (1).jpeg')\n"
   ]
  },
  {
   "cell_type": "markdown",
   "id": "0c1a807a-822d-42e0-a8d8-f96e57209d94",
   "metadata": {},
   "source": [
    "2. How do you load the Faster RCNN model with a ResNet50 backbone and print its architecture?"
   ]
  },
  {
   "cell_type": "code",
   "execution_count": 4,
   "id": "097699d5-1170-470f-a13c-0a3e49f0b49a",
   "metadata": {},
   "outputs": [
    {
     "name": "stderr",
     "output_type": "stream",
     "text": [
      "C:\\Users\\Arpit Srivastava\\AppData\\Local\\Programs\\Python\\Python310\\lib\\site-packages\\torchvision\\models\\_utils.py:208: UserWarning: The parameter 'pretrained' is deprecated since 0.13 and may be removed in the future, please use 'weights' instead.\n",
      "  warnings.warn(\n",
      "C:\\Users\\Arpit Srivastava\\AppData\\Local\\Programs\\Python\\Python310\\lib\\site-packages\\torchvision\\models\\_utils.py:223: UserWarning: Arguments other than a weight enum or `None` for 'weights' are deprecated since 0.13 and may be removed in the future. The current behavior is equivalent to passing `weights=FasterRCNN_ResNet50_FPN_Weights.COCO_V1`. You can also use `weights=FasterRCNN_ResNet50_FPN_Weights.DEFAULT` to get the most up-to-date weights.\n",
      "  warnings.warn(msg)\n",
      "Downloading: \"https://download.pytorch.org/models/fasterrcnn_resnet50_fpn_coco-258fb6c6.pth\" to C:\\Users\\Arpit Srivastava/.cache\\torch\\hub\\checkpoints\\fasterrcnn_resnet50_fpn_coco-258fb6c6.pth\n",
      "100%|█████████████████████████████████████████| 160M/160M [02:26<00:00, 1.14MB/s]\n"
     ]
    },
    {
     "name": "stdout",
     "output_type": "stream",
     "text": [
      "FasterRCNN(\n",
      "  (transform): GeneralizedRCNNTransform(\n",
      "      Normalize(mean=[0.485, 0.456, 0.406], std=[0.229, 0.224, 0.225])\n",
      "      Resize(min_size=(800,), max_size=1333, mode='bilinear')\n",
      "  )\n",
      "  (backbone): BackboneWithFPN(\n",
      "    (body): IntermediateLayerGetter(\n",
      "      (conv1): Conv2d(3, 64, kernel_size=(7, 7), stride=(2, 2), padding=(3, 3), bias=False)\n",
      "      (bn1): FrozenBatchNorm2d(64, eps=0.0)\n",
      "      (relu): ReLU(inplace=True)\n",
      "      (maxpool): MaxPool2d(kernel_size=3, stride=2, padding=1, dilation=1, ceil_mode=False)\n",
      "      (layer1): Sequential(\n",
      "        (0): Bottleneck(\n",
      "          (conv1): Conv2d(64, 64, kernel_size=(1, 1), stride=(1, 1), bias=False)\n",
      "          (bn1): FrozenBatchNorm2d(64, eps=0.0)\n",
      "          (conv2): Conv2d(64, 64, kernel_size=(3, 3), stride=(1, 1), padding=(1, 1), bias=False)\n",
      "          (bn2): FrozenBatchNorm2d(64, eps=0.0)\n",
      "          (conv3): Conv2d(64, 256, kernel_size=(1, 1), stride=(1, 1), bias=False)\n",
      "          (bn3): FrozenBatchNorm2d(256, eps=0.0)\n",
      "          (relu): ReLU(inplace=True)\n",
      "          (downsample): Sequential(\n",
      "            (0): Conv2d(64, 256, kernel_size=(1, 1), stride=(1, 1), bias=False)\n",
      "            (1): FrozenBatchNorm2d(256, eps=0.0)\n",
      "          )\n",
      "        )\n",
      "        (1): Bottleneck(\n",
      "          (conv1): Conv2d(256, 64, kernel_size=(1, 1), stride=(1, 1), bias=False)\n",
      "          (bn1): FrozenBatchNorm2d(64, eps=0.0)\n",
      "          (conv2): Conv2d(64, 64, kernel_size=(3, 3), stride=(1, 1), padding=(1, 1), bias=False)\n",
      "          (bn2): FrozenBatchNorm2d(64, eps=0.0)\n",
      "          (conv3): Conv2d(64, 256, kernel_size=(1, 1), stride=(1, 1), bias=False)\n",
      "          (bn3): FrozenBatchNorm2d(256, eps=0.0)\n",
      "          (relu): ReLU(inplace=True)\n",
      "        )\n",
      "        (2): Bottleneck(\n",
      "          (conv1): Conv2d(256, 64, kernel_size=(1, 1), stride=(1, 1), bias=False)\n",
      "          (bn1): FrozenBatchNorm2d(64, eps=0.0)\n",
      "          (conv2): Conv2d(64, 64, kernel_size=(3, 3), stride=(1, 1), padding=(1, 1), bias=False)\n",
      "          (bn2): FrozenBatchNorm2d(64, eps=0.0)\n",
      "          (conv3): Conv2d(64, 256, kernel_size=(1, 1), stride=(1, 1), bias=False)\n",
      "          (bn3): FrozenBatchNorm2d(256, eps=0.0)\n",
      "          (relu): ReLU(inplace=True)\n",
      "        )\n",
      "      )\n",
      "      (layer2): Sequential(\n",
      "        (0): Bottleneck(\n",
      "          (conv1): Conv2d(256, 128, kernel_size=(1, 1), stride=(1, 1), bias=False)\n",
      "          (bn1): FrozenBatchNorm2d(128, eps=0.0)\n",
      "          (conv2): Conv2d(128, 128, kernel_size=(3, 3), stride=(2, 2), padding=(1, 1), bias=False)\n",
      "          (bn2): FrozenBatchNorm2d(128, eps=0.0)\n",
      "          (conv3): Conv2d(128, 512, kernel_size=(1, 1), stride=(1, 1), bias=False)\n",
      "          (bn3): FrozenBatchNorm2d(512, eps=0.0)\n",
      "          (relu): ReLU(inplace=True)\n",
      "          (downsample): Sequential(\n",
      "            (0): Conv2d(256, 512, kernel_size=(1, 1), stride=(2, 2), bias=False)\n",
      "            (1): FrozenBatchNorm2d(512, eps=0.0)\n",
      "          )\n",
      "        )\n",
      "        (1): Bottleneck(\n",
      "          (conv1): Conv2d(512, 128, kernel_size=(1, 1), stride=(1, 1), bias=False)\n",
      "          (bn1): FrozenBatchNorm2d(128, eps=0.0)\n",
      "          (conv2): Conv2d(128, 128, kernel_size=(3, 3), stride=(1, 1), padding=(1, 1), bias=False)\n",
      "          (bn2): FrozenBatchNorm2d(128, eps=0.0)\n",
      "          (conv3): Conv2d(128, 512, kernel_size=(1, 1), stride=(1, 1), bias=False)\n",
      "          (bn3): FrozenBatchNorm2d(512, eps=0.0)\n",
      "          (relu): ReLU(inplace=True)\n",
      "        )\n",
      "        (2): Bottleneck(\n",
      "          (conv1): Conv2d(512, 128, kernel_size=(1, 1), stride=(1, 1), bias=False)\n",
      "          (bn1): FrozenBatchNorm2d(128, eps=0.0)\n",
      "          (conv2): Conv2d(128, 128, kernel_size=(3, 3), stride=(1, 1), padding=(1, 1), bias=False)\n",
      "          (bn2): FrozenBatchNorm2d(128, eps=0.0)\n",
      "          (conv3): Conv2d(128, 512, kernel_size=(1, 1), stride=(1, 1), bias=False)\n",
      "          (bn3): FrozenBatchNorm2d(512, eps=0.0)\n",
      "          (relu): ReLU(inplace=True)\n",
      "        )\n",
      "        (3): Bottleneck(\n",
      "          (conv1): Conv2d(512, 128, kernel_size=(1, 1), stride=(1, 1), bias=False)\n",
      "          (bn1): FrozenBatchNorm2d(128, eps=0.0)\n",
      "          (conv2): Conv2d(128, 128, kernel_size=(3, 3), stride=(1, 1), padding=(1, 1), bias=False)\n",
      "          (bn2): FrozenBatchNorm2d(128, eps=0.0)\n",
      "          (conv3): Conv2d(128, 512, kernel_size=(1, 1), stride=(1, 1), bias=False)\n",
      "          (bn3): FrozenBatchNorm2d(512, eps=0.0)\n",
      "          (relu): ReLU(inplace=True)\n",
      "        )\n",
      "      )\n",
      "      (layer3): Sequential(\n",
      "        (0): Bottleneck(\n",
      "          (conv1): Conv2d(512, 256, kernel_size=(1, 1), stride=(1, 1), bias=False)\n",
      "          (bn1): FrozenBatchNorm2d(256, eps=0.0)\n",
      "          (conv2): Conv2d(256, 256, kernel_size=(3, 3), stride=(2, 2), padding=(1, 1), bias=False)\n",
      "          (bn2): FrozenBatchNorm2d(256, eps=0.0)\n",
      "          (conv3): Conv2d(256, 1024, kernel_size=(1, 1), stride=(1, 1), bias=False)\n",
      "          (bn3): FrozenBatchNorm2d(1024, eps=0.0)\n",
      "          (relu): ReLU(inplace=True)\n",
      "          (downsample): Sequential(\n",
      "            (0): Conv2d(512, 1024, kernel_size=(1, 1), stride=(2, 2), bias=False)\n",
      "            (1): FrozenBatchNorm2d(1024, eps=0.0)\n",
      "          )\n",
      "        )\n",
      "        (1): Bottleneck(\n",
      "          (conv1): Conv2d(1024, 256, kernel_size=(1, 1), stride=(1, 1), bias=False)\n",
      "          (bn1): FrozenBatchNorm2d(256, eps=0.0)\n",
      "          (conv2): Conv2d(256, 256, kernel_size=(3, 3), stride=(1, 1), padding=(1, 1), bias=False)\n",
      "          (bn2): FrozenBatchNorm2d(256, eps=0.0)\n",
      "          (conv3): Conv2d(256, 1024, kernel_size=(1, 1), stride=(1, 1), bias=False)\n",
      "          (bn3): FrozenBatchNorm2d(1024, eps=0.0)\n",
      "          (relu): ReLU(inplace=True)\n",
      "        )\n",
      "        (2): Bottleneck(\n",
      "          (conv1): Conv2d(1024, 256, kernel_size=(1, 1), stride=(1, 1), bias=False)\n",
      "          (bn1): FrozenBatchNorm2d(256, eps=0.0)\n",
      "          (conv2): Conv2d(256, 256, kernel_size=(3, 3), stride=(1, 1), padding=(1, 1), bias=False)\n",
      "          (bn2): FrozenBatchNorm2d(256, eps=0.0)\n",
      "          (conv3): Conv2d(256, 1024, kernel_size=(1, 1), stride=(1, 1), bias=False)\n",
      "          (bn3): FrozenBatchNorm2d(1024, eps=0.0)\n",
      "          (relu): ReLU(inplace=True)\n",
      "        )\n",
      "        (3): Bottleneck(\n",
      "          (conv1): Conv2d(1024, 256, kernel_size=(1, 1), stride=(1, 1), bias=False)\n",
      "          (bn1): FrozenBatchNorm2d(256, eps=0.0)\n",
      "          (conv2): Conv2d(256, 256, kernel_size=(3, 3), stride=(1, 1), padding=(1, 1), bias=False)\n",
      "          (bn2): FrozenBatchNorm2d(256, eps=0.0)\n",
      "          (conv3): Conv2d(256, 1024, kernel_size=(1, 1), stride=(1, 1), bias=False)\n",
      "          (bn3): FrozenBatchNorm2d(1024, eps=0.0)\n",
      "          (relu): ReLU(inplace=True)\n",
      "        )\n",
      "        (4): Bottleneck(\n",
      "          (conv1): Conv2d(1024, 256, kernel_size=(1, 1), stride=(1, 1), bias=False)\n",
      "          (bn1): FrozenBatchNorm2d(256, eps=0.0)\n",
      "          (conv2): Conv2d(256, 256, kernel_size=(3, 3), stride=(1, 1), padding=(1, 1), bias=False)\n",
      "          (bn2): FrozenBatchNorm2d(256, eps=0.0)\n",
      "          (conv3): Conv2d(256, 1024, kernel_size=(1, 1), stride=(1, 1), bias=False)\n",
      "          (bn3): FrozenBatchNorm2d(1024, eps=0.0)\n",
      "          (relu): ReLU(inplace=True)\n",
      "        )\n",
      "        (5): Bottleneck(\n",
      "          (conv1): Conv2d(1024, 256, kernel_size=(1, 1), stride=(1, 1), bias=False)\n",
      "          (bn1): FrozenBatchNorm2d(256, eps=0.0)\n",
      "          (conv2): Conv2d(256, 256, kernel_size=(3, 3), stride=(1, 1), padding=(1, 1), bias=False)\n",
      "          (bn2): FrozenBatchNorm2d(256, eps=0.0)\n",
      "          (conv3): Conv2d(256, 1024, kernel_size=(1, 1), stride=(1, 1), bias=False)\n",
      "          (bn3): FrozenBatchNorm2d(1024, eps=0.0)\n",
      "          (relu): ReLU(inplace=True)\n",
      "        )\n",
      "      )\n",
      "      (layer4): Sequential(\n",
      "        (0): Bottleneck(\n",
      "          (conv1): Conv2d(1024, 512, kernel_size=(1, 1), stride=(1, 1), bias=False)\n",
      "          (bn1): FrozenBatchNorm2d(512, eps=0.0)\n",
      "          (conv2): Conv2d(512, 512, kernel_size=(3, 3), stride=(2, 2), padding=(1, 1), bias=False)\n",
      "          (bn2): FrozenBatchNorm2d(512, eps=0.0)\n",
      "          (conv3): Conv2d(512, 2048, kernel_size=(1, 1), stride=(1, 1), bias=False)\n",
      "          (bn3): FrozenBatchNorm2d(2048, eps=0.0)\n",
      "          (relu): ReLU(inplace=True)\n",
      "          (downsample): Sequential(\n",
      "            (0): Conv2d(1024, 2048, kernel_size=(1, 1), stride=(2, 2), bias=False)\n",
      "            (1): FrozenBatchNorm2d(2048, eps=0.0)\n",
      "          )\n",
      "        )\n",
      "        (1): Bottleneck(\n",
      "          (conv1): Conv2d(2048, 512, kernel_size=(1, 1), stride=(1, 1), bias=False)\n",
      "          (bn1): FrozenBatchNorm2d(512, eps=0.0)\n",
      "          (conv2): Conv2d(512, 512, kernel_size=(3, 3), stride=(1, 1), padding=(1, 1), bias=False)\n",
      "          (bn2): FrozenBatchNorm2d(512, eps=0.0)\n",
      "          (conv3): Conv2d(512, 2048, kernel_size=(1, 1), stride=(1, 1), bias=False)\n",
      "          (bn3): FrozenBatchNorm2d(2048, eps=0.0)\n",
      "          (relu): ReLU(inplace=True)\n",
      "        )\n",
      "        (2): Bottleneck(\n",
      "          (conv1): Conv2d(2048, 512, kernel_size=(1, 1), stride=(1, 1), bias=False)\n",
      "          (bn1): FrozenBatchNorm2d(512, eps=0.0)\n",
      "          (conv2): Conv2d(512, 512, kernel_size=(3, 3), stride=(1, 1), padding=(1, 1), bias=False)\n",
      "          (bn2): FrozenBatchNorm2d(512, eps=0.0)\n",
      "          (conv3): Conv2d(512, 2048, kernel_size=(1, 1), stride=(1, 1), bias=False)\n",
      "          (bn3): FrozenBatchNorm2d(2048, eps=0.0)\n",
      "          (relu): ReLU(inplace=True)\n",
      "        )\n",
      "      )\n",
      "    )\n",
      "    (fpn): FeaturePyramidNetwork(\n",
      "      (inner_blocks): ModuleList(\n",
      "        (0): Conv2dNormActivation(\n",
      "          (0): Conv2d(256, 256, kernel_size=(1, 1), stride=(1, 1))\n",
      "        )\n",
      "        (1): Conv2dNormActivation(\n",
      "          (0): Conv2d(512, 256, kernel_size=(1, 1), stride=(1, 1))\n",
      "        )\n",
      "        (2): Conv2dNormActivation(\n",
      "          (0): Conv2d(1024, 256, kernel_size=(1, 1), stride=(1, 1))\n",
      "        )\n",
      "        (3): Conv2dNormActivation(\n",
      "          (0): Conv2d(2048, 256, kernel_size=(1, 1), stride=(1, 1))\n",
      "        )\n",
      "      )\n",
      "      (layer_blocks): ModuleList(\n",
      "        (0-3): 4 x Conv2dNormActivation(\n",
      "          (0): Conv2d(256, 256, kernel_size=(3, 3), stride=(1, 1), padding=(1, 1))\n",
      "        )\n",
      "      )\n",
      "      (extra_blocks): LastLevelMaxPool()\n",
      "    )\n",
      "  )\n",
      "  (rpn): RegionProposalNetwork(\n",
      "    (anchor_generator): AnchorGenerator()\n",
      "    (head): RPNHead(\n",
      "      (conv): Sequential(\n",
      "        (0): Conv2dNormActivation(\n",
      "          (0): Conv2d(256, 256, kernel_size=(3, 3), stride=(1, 1), padding=(1, 1))\n",
      "          (1): ReLU(inplace=True)\n",
      "        )\n",
      "      )\n",
      "      (cls_logits): Conv2d(256, 3, kernel_size=(1, 1), stride=(1, 1))\n",
      "      (bbox_pred): Conv2d(256, 12, kernel_size=(1, 1), stride=(1, 1))\n",
      "    )\n",
      "  )\n",
      "  (roi_heads): RoIHeads(\n",
      "    (box_roi_pool): MultiScaleRoIAlign(featmap_names=['0', '1', '2', '3'], output_size=(7, 7), sampling_ratio=2)\n",
      "    (box_head): TwoMLPHead(\n",
      "      (fc6): Linear(in_features=12544, out_features=1024, bias=True)\n",
      "      (fc7): Linear(in_features=1024, out_features=1024, bias=True)\n",
      "    )\n",
      "    (box_predictor): FastRCNNPredictor(\n",
      "      (cls_score): Linear(in_features=1024, out_features=91, bias=True)\n",
      "      (bbox_pred): Linear(in_features=1024, out_features=364, bias=True)\n",
      "    )\n",
      "  )\n",
      ")\n"
     ]
    }
   ],
   "source": [
    "import torch\n",
    "from torchvision.models.detection import fasterrcnn_resnet50_fpn\n",
    "\n",
    "# Load the Faster RCNN model with ResNet50 backbone\n",
    "model = fasterrcnn_resnet50_fpn(pretrained=True)\n",
    "\n",
    "# Print the architecture of the model\n",
    "print(model)\n"
   ]
  },
  {
   "cell_type": "markdown",
   "id": "fc197aa9-9aba-4695-99dd-5127deae51bb",
   "metadata": {},
   "source": [
    "3. How do you perform inference on an online image using the Faster RCNN model and print the predictions?"
   ]
  },
  {
   "cell_type": "code",
   "execution_count": 17,
   "id": "a33fde13-2670-4eb2-9f80-1ba960a09b24",
   "metadata": {},
   "outputs": [
    {
     "name": "stdout",
     "output_type": "stream",
     "text": [
      "[{'boxes': tensor([[ 306.2997,  278.9960,  615.9741,  786.9034],\n",
      "        [ 384.1620,  534.4406, 1008.4300,  792.4063],\n",
      "        [ 393.0817,  527.6692,  540.4462,  684.2594],\n",
      "        [  50.4929,  519.7365,  568.7787,  794.8137],\n",
      "        [   0.0000,  350.5025,  227.6613,  760.7053],\n",
      "        [  17.2015,  523.8696,  347.9217,  804.0000],\n",
      "        [   7.3403,  511.3454,  340.6875,  789.7105],\n",
      "        [ 398.7364,  547.0774,  536.2683,  680.8552],\n",
      "        [ 167.1183,  518.5482,  339.1471,  787.4736],\n",
      "        [ 575.2139,  618.3203, 1024.0000,  800.2305],\n",
      "        [  33.5862,  410.1456, 1018.4420,  794.6489],\n",
      "        [ 171.2914,  523.4850,  343.2284,  804.0000],\n",
      "        [  11.6628,  571.2129,  227.2035,  791.1810],\n",
      "        [ 556.5294,  597.9436, 1024.0000,  801.5265],\n",
      "        [ 179.4713,  528.7270,  651.3500,  797.3718],\n",
      "        [   0.0000,  251.9923,   11.7704,  261.6660],\n",
      "        [ 376.3718,  546.6411,  588.5123,  779.7421],\n",
      "        [ 777.2491,  745.6122,  825.9382,  773.7188],\n",
      "        [ 779.8652,  744.4615,  826.2331,  774.3498],\n",
      "        [ 597.8563,  544.8221,  673.5721,  638.8559]]), 'labels': tensor([ 1, 63, 73, 63, 64, 62, 63, 84, 62, 63, 63, 63, 86, 62, 62, 16, 73, 75, 74, 62]), 'scores': tensor([0.9992, 0.9605, 0.8573, 0.8318, 0.7741, 0.4963, 0.4625, 0.3872, 0.3249, 0.2868, 0.2790, 0.2332, 0.1597, 0.1379, 0.1203, 0.1180, 0.0805, 0.0756, 0.0615, 0.0532])}]\n"
     ]
    }
   ],
   "source": [
    "import requests\n",
    "from PIL import Image\n",
    "from io import BytesIO\n",
    "import torch\n",
    "from torchvision.models.detection import fasterrcnn_resnet50_fpn\n",
    "import torchvision.transforms as T\n",
    "\n",
    "# Load Faster RCNN model with pre-trained weights\n",
    "model = fasterrcnn_resnet50_fpn(pretrained=True)\n",
    "model.eval()\n",
    "\n",
    "# Load an image from an online source\n",
    "url = 'https://media.istockphoto.com/id/2039918088/photo/happy-african-american-woman-using-tablet-on-a-cozy-sofa-at-home.jpg?s=1024x1024&w=is&k=20&c=-rdFcTOcILfROUzuBoVmZbEaNAApqSRXjblyHz6CeOY='\n",
    "response = requests.get(url)\n",
    "image = Image.open(BytesIO(response.content))\n",
    "\n",
    "# Preprocess the image\n",
    "transform = T.Compose([T.ToTensor()])\n",
    "image_tensor = transform(image).unsqueeze(0)\n",
    "\n",
    "# Perform inference\n",
    "with torch.no_grad():\n",
    "    prediction = model(image_tensor)\n",
    "\n",
    "# Print the predictions (bounding boxes, labels, and scores)\n",
    "print(prediction)\n"
   ]
  },
  {
   "cell_type": "markdown",
   "id": "f37cb815-5d28-41ce-bc3f-fe5c95970c1d",
   "metadata": {},
   "source": [
    "4. How do you load an image and perform inference using YOLOv9, then display the detected objects with bounding boxes and class labels?"
   ]
  },
  {
   "cell_type": "code",
   "execution_count": 28,
   "id": "52c8fa38-0271-4ed4-8aaf-311abc35530f",
   "metadata": {},
   "outputs": [
    {
     "name": "stdout",
     "output_type": "stream",
     "text": [
      "\n",
      "0: 640x384 1 person, 1 dog, 144.8ms\n",
      "Speed: 5.0ms preprocess, 144.8ms inference, 1.9ms postprocess per image at shape (1, 3, 640, 384)\n"
     ]
    },
    {
     "ename": "AttributeError",
     "evalue": "'list' object has no attribute 'xywh'",
     "output_type": "error",
     "traceback": [
      "\u001b[1;31m---------------------------------------------------------------------------\u001b[0m",
      "\u001b[1;31mAttributeError\u001b[0m                            Traceback (most recent call last)",
      "Cell \u001b[1;32mIn[28], line 14\u001b[0m\n\u001b[0;32m     11\u001b[0m results \u001b[38;5;241m=\u001b[39m model(image)\n\u001b[0;32m     13\u001b[0m \u001b[38;5;66;03m# Get the bounding boxes, labels, and confidence scores\u001b[39;00m\n\u001b[1;32m---> 14\u001b[0m boxes \u001b[38;5;241m=\u001b[39m \u001b[43mresults\u001b[49m\u001b[38;5;241;43m.\u001b[39;49m\u001b[43mxywh\u001b[49m[\u001b[38;5;241m0\u001b[39m][:, :\u001b[38;5;241m4\u001b[39m]\u001b[38;5;241m.\u001b[39mcpu()\u001b[38;5;241m.\u001b[39mnumpy()  \u001b[38;5;66;03m# Bounding boxes\u001b[39;00m\n\u001b[0;32m     15\u001b[0m labels \u001b[38;5;241m=\u001b[39m results\u001b[38;5;241m.\u001b[39mxywh[\u001b[38;5;241m0\u001b[39m][:, \u001b[38;5;241m5\u001b[39m]\u001b[38;5;241m.\u001b[39mcpu()\u001b[38;5;241m.\u001b[39mnumpy()  \u001b[38;5;66;03m# Class labels\u001b[39;00m\n\u001b[0;32m     16\u001b[0m scores \u001b[38;5;241m=\u001b[39m results\u001b[38;5;241m.\u001b[39mxywh[\u001b[38;5;241m0\u001b[39m][:, \u001b[38;5;241m4\u001b[39m]\u001b[38;5;241m.\u001b[39mcpu()\u001b[38;5;241m.\u001b[39mnumpy()  \u001b[38;5;66;03m# Confidence scores\u001b[39;00m\n",
      "\u001b[1;31mAttributeError\u001b[0m: 'list' object has no attribute 'xywh'"
     ]
    }
   ],
   "source": [
    "from ultralytics import YOLO\n",
    "import cv2\n",
    "\n",
    "# Load the YOLOv9 model\n",
    "model = YOLO('yolov9t.pt')\n",
    "\n",
    "# Load an image\n",
    "image = cv2.imread('download (1).jpeg')\n",
    "\n",
    "# Perform inference\n",
    "results = model(image)\n",
    "\n",
    "# Get the bounding boxes, labels, and confidence scores\n",
    "boxes = results.xywh[0][:, :4].cpu().numpy()  # Bounding boxes\n",
    "labels = results.xywh[0][:, 5].cpu().numpy()  # Class labels\n",
    "scores = results.xywh[0][:, 4].cpu().numpy()  # Confidence scores\n",
    "\n",
    "# Draw bounding boxes and labels on the image\n",
    "for box, label, score in zip(boxes, labels, scores):\n",
    "    x1, y1, x2, y2 = box\n",
    "    cv2.rectangle(image, (int(x1), int(y1)), (int(x2), int(y2)), (0, 255, 0), 2)\n",
    "    cv2.putText(image, f'{model.names[int(label)]}: {score:.2f}', (int(x1), int(y1)-10), cv2.FONT_HERSHEY_SIMPLEX, 0.5, (255, 0, 0), 2)\n",
    "\n",
    "# Display the image\n",
    "cv2.imshow('Detected Objects', image)\n",
    "cv2.waitKey(0)\n",
    "cv2.destroyAllWindows()\n"
   ]
  },
  {
   "cell_type": "markdown",
   "id": "a7c52ef3-33e5-4bbd-b35b-2033f4a06d4e",
   "metadata": {},
   "source": [
    "5. How do you display bounding boxes for the detected objects in an image using Faster RCNN?"
   ]
  },
  {
   "cell_type": "code",
   "execution_count": 19,
   "id": "556740a1-afa0-4db8-832d-4433c024e57d",
   "metadata": {},
   "outputs": [],
   "source": [
    "import torch\n",
    "import cv2\n",
    "from torchvision.models.detection import fasterrcnn_resnet50_fpn\n",
    "from torchvision.transforms import functional as F\n",
    "\n",
    "# Load Faster RCNN model\n",
    "model = fasterrcnn_resnet50_fpn(pretrained=True)\n",
    "model.eval()\n",
    "\n",
    "# Load image\n",
    "image = cv2.imread('download (1).jpeg')\n",
    "\n",
    "# Convert image to tensor\n",
    "image_tensor = F.to_tensor(image).unsqueeze(0)\n",
    "\n",
    "# Perform inference\n",
    "with torch.no_grad():\n",
    "    prediction = model(image_tensor)\n",
    "\n",
    "# Get bounding boxes\n",
    "boxes = prediction[0]['boxes'].cpu().numpy()\n",
    "\n",
    "# Draw bounding boxes on the image\n",
    "for box in boxes:\n",
    "    x1, y1, x2, y2 = box\n",
    "    cv2.rectangle(image, (int(x1), int(y1)), (int(x2), int(y2)), (0, 255, 0), 2)\n",
    "\n",
    "# Display the image\n",
    "cv2.imshow('Bounding Boxes', image)\n",
    "cv2.waitKey(0)\n",
    "cv2.destroyAllWindows()\n"
   ]
  },
  {
   "cell_type": "markdown",
   "id": "a4ec29d3-b099-493f-8804-fce116e36387",
   "metadata": {},
   "source": [
    "6. How do you perform inference on a local image using Faster RCNN?"
   ]
  },
  {
   "cell_type": "code",
   "execution_count": 20,
   "id": "8357c734-c75d-41e6-8cec-4e06931969a3",
   "metadata": {},
   "outputs": [
    {
     "name": "stdout",
     "output_type": "stream",
     "text": [
      "[{'boxes': tensor([[   6.0747,  225.7161,  603.1781, 1272.0842],\n",
      "        [  43.6810,  248.2779,  604.0640,  953.6782],\n",
      "        [  10.9060,  363.4500,  234.9849,  939.1548],\n",
      "        [   0.0000,  350.4636,  411.9798, 1038.6139],\n",
      "        [ 644.9882,  725.1860,  698.8099,  786.6296],\n",
      "        [ 644.6409,  719.7424,  698.9259,  784.5071],\n",
      "        [ 277.1775,  598.7109,  530.9061, 1262.1251],\n",
      "        [  97.9248,  549.2142,  601.1274, 1246.4344],\n",
      "        [ 282.2257,  617.4450,  548.7278, 1254.9834],\n",
      "        [   2.7493,  634.0876,  421.1807, 1233.7306],\n",
      "        [ 243.5096,  651.8255,  521.5056, 1250.5190],\n",
      "        [  74.5877,  510.2979,  530.8853, 1036.5032],\n",
      "        [ 539.3710,  723.7611,  614.2542,  825.2762],\n",
      "        [  25.8443,  596.0424,  509.7683, 1261.0477],\n",
      "        [  11.6508,  665.0109,  305.9524, 1034.0255],\n",
      "        [ 540.1844,  725.5382,  607.3673,  823.8063],\n",
      "        [  32.3508,  675.5434,  301.9443,  976.7241],\n",
      "        [ 247.7456,  907.6970,  449.3322, 1256.0381],\n",
      "        [  98.4668,  455.1525,  434.0376,  835.4838],\n",
      "        [   5.3215,  557.1600,   55.1752,  919.4302],\n",
      "        [ 175.2675,  247.5790,  514.6524,  699.3749],\n",
      "        [ 387.3846,  837.4689,  532.0096, 1240.3646],\n",
      "        [ 477.3366,  683.5269,  616.5616,  954.2155],\n",
      "        [ 269.9212,  954.2728,  443.7170, 1260.7772],\n",
      "        [   8.7429,  440.1979,  101.6065,  959.3884],\n",
      "        [ 267.1413,  946.2761,  449.5117, 1267.5912],\n",
      "        [  14.1776,  683.9875,  305.3666, 1046.6982],\n",
      "        [ 559.7595,  707.9111,  638.9657,  831.2882],\n",
      "        [  13.5527,  829.6350,  563.0259, 1280.0000],\n",
      "        [ 637.8590,  718.4286,  701.2835,  786.2605],\n",
      "        [   2.5081,  570.5387,   54.6621,  745.5790]]), 'labels': tensor([ 1, 18,  1,  1,  3,  8, 32, 27, 31, 27, 27, 32, 65, 31, 27,  1, 32, 27, 32,  1, 18, 32, 65, 32,  1, 31, 31, 65, 27,  6,  1]), 'scores': tensor([0.9087, 0.8173, 0.8101, 0.7335, 0.6782, 0.6242, 0.5540, 0.4071, 0.2987, 0.2484, 0.2247, 0.1987, 0.1961, 0.1847, 0.1741, 0.1727, 0.1612, 0.1515, 0.1139, 0.0995, 0.0947, 0.0873, 0.0867, 0.0802, 0.0801, 0.0794, 0.0754, 0.0583, 0.0581, 0.0578, 0.0556])}]\n"
     ]
    }
   ],
   "source": [
    "import torch\n",
    "from torchvision.models.detection import fasterrcnn_resnet50_fpn\n",
    "from PIL import Image\n",
    "from torchvision.transforms import functional as F\n",
    "\n",
    "# Load Faster RCNN model\n",
    "model = fasterrcnn_resnet50_fpn(pretrained=True)\n",
    "model.eval()\n",
    "\n",
    "# Load the local image\n",
    "image = Image.open('download (1).jpeg')\n",
    "\n",
    "# Convert the image to tensor\n",
    "image_tensor = F.to_tensor(image).unsqueeze(0)\n",
    "\n",
    "# Perform inference\n",
    "with torch.no_grad():\n",
    "    prediction = model(image_tensor)\n",
    "\n",
    "# Print predictions (bounding boxes, labels, and scores)\n",
    "print(prediction)\n"
   ]
  },
  {
   "cell_type": "markdown",
   "id": "63a48d31-cdb6-4c62-ba1f-6a96660be01e",
   "metadata": {},
   "source": [
    "7. How can you change the confidence threshold for YOLO object detection and filter out low-confidence predictions?"
   ]
  },
  {
   "cell_type": "code",
   "execution_count": 25,
   "id": "9e3a49d4-618e-4bfa-83b8-56650c1be734",
   "metadata": {},
   "outputs": [
    {
     "name": "stdout",
     "output_type": "stream",
     "text": [
      "\n",
      "image 1/1 C:\\Users\\Arpit Srivastava\\Downloads\\download (1).jpeg: 640x384 1 dog, 119.2ms\n",
      "Speed: 5.0ms preprocess, 119.2ms inference, 1.0ms postprocess per image at shape (1, 3, 640, 384)\n"
     ]
    }
   ],
   "source": [
    "from ultralytics import YOLO\n",
    "\n",
    "# Load YOLOv9 model\n",
    "model = YOLO('yolov9t.pt')\n",
    "\n",
    "# Run inference on an image with a confidence threshold of 0.5\n",
    "results = model('download (1).jpeg', conf=0.5)\n"
   ]
  },
  {
   "cell_type": "markdown",
   "id": "0f129f77-898b-4db5-bc8a-f4e8510ecfd3",
   "metadata": {},
   "source": [
    "8. How do you plot the training and validation loss curves for model evaluation?"
   ]
  },
  {
   "cell_type": "code",
   "execution_count": 10,
   "id": "a1aa4a85-651b-44ab-8ddb-6ac6b65c9e88",
   "metadata": {},
   "outputs": [
    {
     "data": {
      "image/png": "[encoded data removed]",
      "text/plain": [
       "<Figure size 640x480 with 1 Axes>"
      ]
     },
     "metadata": {},
     "output_type": "display_data"
    }
   ],
   "source": [
    "import matplotlib.pyplot as plt\n",
    "\n",
    "# Assuming you have a list of training and validation losses for each epoch\n",
    "train_loss = [0.6, 0.5, 0.4, 0.3]  # Example values\n",
    "val_loss = [0.7, 0.6, 0.5, 0.4]  # Example values\n",
    "epochs = range(1, len(train_loss) + 1)\n",
    "\n",
    "# Plot the losses\n",
    "plt.plot(epochs, train_loss, label='Training Loss')\n",
    "plt.plot(epochs, val_loss, label='Validation Loss')\n",
    "plt.xlabel('Epochs')\n",
    "plt.ylabel('Loss')\n",
    "plt.legend()\n",
    "plt.show()\n"
   ]
  },
  {
   "cell_type": "markdown",
   "id": "82491df0-11ed-4936-8d22-27368f22eac3",
   "metadata": {},
   "source": [
    "9. How do you perform inference on multiple images from a local folder using Faster RCNN and display the bounding boxes for each?"
   ]
  },
  {
   "cell_type": "code",
   "execution_count": 29,
   "id": "7319178d-86d9-4240-bf42-0403f1d4617f",
   "metadata": {},
   "outputs": [],
   "source": [
    "import os\n",
    "import torch\n",
    "import cv2\n",
    "from torchvision.models.detection import fasterrcnn_resnet50_fpn\n",
    "from torchvision.transforms import functional as F\n",
    "\n",
    "# Load Faster RCNN model\n",
    "model = fasterrcnn_resnet50_fpn(pretrained=True)\n",
    "model.eval()\n",
    "\n",
    "# Path to the folder containing images\n",
    "image_folder = 'Downloads/dd'\n",
    "\n",
    "# Loop through images in the folder\n",
    "for filename in os.listdir(image_folder):\n",
    "    image_path = os.path.join(image_folder, filename)\n",
    "    image = cv2.imread(image_path)\n",
    "    \n",
    "    # Convert the image to tensor\n",
    "    image_tensor = F.to_tensor(image).unsqueeze(0)\n",
    "\n",
    "    # Perform inference\n",
    "    with torch.no_grad():\n",
    "        prediction = model(image_tensor)\n",
    "\n",
    "    # Draw bounding boxes on the image\n",
    "    boxes = prediction[0]['boxes'].cpu().numpy()\n",
    "    for box in boxes:\n",
    "        x1, y1, x2, y2 = box\n",
    "        cv2.rectangle(image, (int(x1), int(y1)), (int(x2), int(y2)), (0, 255, 0), 2)\n",
    "    \n",
    "    # Display the image\n",
    "    cv2.imshow(f'Predictions for {filename}', image)\n",
    "    cv2.waitKey(0)\n",
    "cv2.destroyAllWindows()\n"
   ]
  },
  {
   "cell_type": "markdown",
   "id": "a5ff3791-870b-4668-8363-a5adcdde8fea",
   "metadata": {},
   "source": [
    "10. How do you visualize the confidence scores alongside the bounding boxes for detected objects using Faster RCNN?"
   ]
  },
  {
   "cell_type": "code",
   "execution_count": 30,
   "id": "985fca1a-b4a4-4195-8221-88190b686afc",
   "metadata": {},
   "outputs": [],
   "source": [
    "import torch\n",
    "import cv2\n",
    "from torchvision.models.detection import fasterrcnn_resnet50_fpn\n",
    "from torchvision.transforms import functional as F\n",
    "\n",
    "# Load Faster RCNN model\n",
    "model = fasterrcnn_resnet50_fpn(pretrained=True)\n",
    "model.eval()\n",
    "\n",
    "# Load an image\n",
    "image = cv2.imread('download (1).jpeg')\n",
    "\n",
    "# Convert image to tensor\n",
    "image_tensor = F.to_tensor(image).unsqueeze(0)\n",
    "\n",
    "# Perform inference\n",
    "with torch.no_grad():\n",
    "    prediction = model(image_tensor)\n",
    "\n",
    "# Get bounding boxes, labels, and scores\n",
    "boxes = prediction[0]['boxes'].cpu().numpy()\n",
    "scores = prediction[0]['scores'].cpu().numpy()\n",
    "\n",
    "# Draw bounding boxes and confidence scores\n",
    "for box, score in zip(boxes, scores):\n",
    "    x1, y1, x2, y2 = box\n",
    "    cv2.rectangle(image, (int(x1), int(y1)), (int(x2), int(y2)), (0, 255, 0), 2)\n",
    "    cv2.putText(image, f'{score:.2f}', (int(x1), int(y1)-10), cv2.FONT_HERSHEY_SIMPLEX, 0.5, (255, 0, 0), 2)\n",
    "\n",
    "# Display the image with bounding boxes and confidence scores\n",
    "cv2.imshow('Detected Objects with Scores', image)\n",
    "cv2.waitKey(0)\n",
    "cv2.destroyAllWindows()\n"
   ]
  },
  {
   "cell_type": "markdown",
   "id": "370f40bd-deb8-4fc7-92e8-81a37af41eab",
   "metadata": {},
   "source": [
    "11. How can you save the inference results (with bounding boxes) as a new image after performing detection using YOLO?"
   ]
  },
  {
   "cell_type": "code",
   "execution_count": 23,
   "id": "3e26c4ab-60f1-4669-acd3-63786b348e77",
   "metadata": {},
   "outputs": [
    {
     "name": "stdout",
     "output_type": "stream",
     "text": [
      "\n",
      "image 1/1 C:\\Users\\Arpit Srivastava\\Downloads\\download (1).jpeg: 640x384 1 person, 1 dog, 195.7ms\n",
      "Speed: 4.4ms preprocess, 195.7ms inference, 2.0ms postprocess per image at shape (1, 3, 640, 384)\n"
     ]
    },
    {
     "ename": "AttributeError",
     "evalue": "'list' object has no attribute 'render'",
     "output_type": "error",
     "traceback": [
      "\u001b[1;31m---------------------------------------------------------------------------\u001b[0m",
      "\u001b[1;31mAttributeError\u001b[0m                            Traceback (most recent call last)",
      "Cell \u001b[1;32mIn[23], line 11\u001b[0m\n\u001b[0;32m      8\u001b[0m results \u001b[38;5;241m=\u001b[39m model(\u001b[38;5;124m\"\u001b[39m\u001b[38;5;124mC:/Users/Arpit Srivastava/Downloads/download (1).jpeg\u001b[39m\u001b[38;5;124m\"\u001b[39m)\n\u001b[0;32m     10\u001b[0m \u001b[38;5;66;03m# Get the image with bounding boxes\u001b[39;00m\n\u001b[1;32m---> 11\u001b[0m output_image \u001b[38;5;241m=\u001b[39m \u001b[43mresults\u001b[49m\u001b[38;5;241;43m.\u001b[39;49m\u001b[43mrender\u001b[49m()[\u001b[38;5;241m0\u001b[39m]\n\u001b[0;32m     13\u001b[0m \u001b[38;5;66;03m# Save the image with bounding boxes\u001b[39;00m\n\u001b[0;32m     14\u001b[0m cv2\u001b[38;5;241m.\u001b[39mimwrite(\u001b[38;5;124m'\u001b[39m\u001b[38;5;124moutput_image.jpg\u001b[39m\u001b[38;5;124m'\u001b[39m, output_image)\n",
      "\u001b[1;31mAttributeError\u001b[0m: 'list' object has no attribute 'render'"
     ]
    }
   ],
   "source": [
    "from ultralytics import YOLO\n",
    "import cv2\n",
    "\n",
    "# Load the YOLOv9 model\n",
    "model = YOLO('yolov9t.pt')\n",
    "\n",
    "# Run inference on an image\n",
    "results = model('download (1).jpeg')\n",
    "\n",
    "# Get the image with bounding boxes\n",
    "output_image = results.render()[0]\n",
    "\n",
    "# Save the image with bounding boxes\n",
    "cv2.imwrite('output_image.jpg', output_image)\n"
   ]
  },
  {
   "cell_type": "code",
   "execution_count": null,
   "id": "6a30fd51-80c6-45a2-960f-930e02504650",
   "metadata": {},
   "outputs": [],
   "source": []
  }
 ],
 "metadata": {
  "kernelspec": {
   "display_name": "Python 3 (ipykernel)",
   "language": "python",
   "name": "python3"
  },
  "language_info": {
   "codemirror_mode": {
    "name": "ipython",
    "version": 3
   },
   "file_extension": ".py",
   "mimetype": "text/x-python",
   "name": "python",
   "nbconvert_exporter": "python",
   "pygments_lexer": "ipython3",
   "version": "3.10.0"
  }
 },
 "nbformat": 4,
 "nbformat_minor": 5
}
